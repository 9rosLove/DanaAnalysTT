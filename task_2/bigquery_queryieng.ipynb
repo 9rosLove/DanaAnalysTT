{
 "cells": [
  {
   "cell_type": "code",
   "execution_count": 1,
   "id": "initial_id",
   "metadata": {
    "collapsed": true,
    "ExecuteTime": {
     "end_time": "2024-06-18T11:01:16.274021300Z",
     "start_time": "2024-06-18T11:01:14.018351900Z"
    }
   },
   "outputs": [],
   "source": [
    "from datetime import datetime, timedelta\n",
    "\n",
    "import pandas as pd\n",
    "from google.cloud import bigquery\n",
    "from dotenv import load_dotenv\n",
    "from concurrent.futures import ThreadPoolExecutor\n",
    "\n",
    "from utils import (\n",
    "    create_spreadsheet,\n",
    "    share_spreadsheet,\n",
    "    authenticate,\n",
    "    add_worksheet_and_write_data,\n",
    ")\n",
    "from config import GOOGLE_APPLICATION_CREDENTIALS, SCOPES, EMAIL"
   ]
  },
  {
   "cell_type": "code",
   "outputs": [],
   "source": [
    "load_dotenv()\n",
    "\n",
    "client = bigquery.Client()"
   ],
   "metadata": {
    "collapsed": false,
    "ExecuteTime": {
     "end_time": "2024-06-18T11:01:16.276020500Z",
     "start_time": "2024-06-18T11:01:16.259715400Z"
    }
   },
   "id": "61b29576405011f0",
   "execution_count": 2
  },
  {
   "cell_type": "markdown",
   "source": [
    "Create a list of queries with specific dates"
   ],
   "metadata": {
    "collapsed": false
   },
   "id": "851033b39856ba3f"
  },
  {
   "cell_type": "code",
   "outputs": [],
   "source": [
    "start_date = datetime(2017, 1, 1)\n",
    "end_date = datetime(2017, 1, 3)\n",
    "\n",
    "current_date = start_date\n",
    "\n",
    "queries = [\n",
    "    f\"SELECT * \"\n",
    "    f\"FROM `bigquery-public-data.google_analytics_sample.ga_sessions_{current_date.strftime('%Y%m%d')}`\"\n",
    "    for current_date in (\n",
    "        start_date + timedelta(days=i)\n",
    "        for i in range((end_date - start_date).days + 1)\n",
    "    )\n",
    "]"
   ],
   "metadata": {
    "collapsed": false,
    "ExecuteTime": {
     "end_time": "2024-06-18T11:01:16.295945200Z",
     "start_time": "2024-06-18T11:01:16.272023200Z"
    }
   },
   "id": "c45b626acbb87fb6",
   "execution_count": 3
  },
  {
   "cell_type": "markdown",
   "source": [
    "Concurrently retrieve data from bigquery with list of queries"
   ],
   "metadata": {
    "collapsed": false
   },
   "id": "f8b5e71f8eceea46"
  },
  {
   "cell_type": "code",
   "outputs": [
    {
     "name": "stderr",
     "output_type": "stream",
     "text": [
      "C:\\Users\\PC\\Desktop\\Employment\\newage.agency\\DanaAnalysTT\\.venv\\Lib\\site-packages\\google\\cloud\\bigquery\\table.py:1727: UserWarning: BigQuery Storage module not found, fetch data with the REST endpoint instead.\n",
      "  warnings.warn(\n"
     ]
    }
   ],
   "source": [
    "def execute_query(query):\n",
    "    return client.query(query).to_dataframe()\n",
    "\n",
    "\n",
    "def execute_queries(queries):\n",
    "    with ThreadPoolExecutor(4) as executor:\n",
    "        results = executor.map(execute_query, queries)\n",
    "\n",
    "        return list(results)\n",
    "\n",
    "\n",
    "dataframes = execute_queries(queries)"
   ],
   "metadata": {
    "collapsed": false,
    "ExecuteTime": {
     "end_time": "2024-06-18T11:01:43.041493900Z",
     "start_time": "2024-06-18T11:01:21.622158600Z"
    }
   },
   "id": "73ead91882db995e",
   "execution_count": 4
  },
  {
   "cell_type": "markdown",
   "source": [
    "Making dataframe from dataframes list"
   ],
   "metadata": {
    "collapsed": false
   },
   "id": "6d15130f806ace31"
  },
  {
   "cell_type": "code",
   "outputs": [
    {
     "name": "stdout",
     "output_type": "stream",
     "text": [
      "<class 'pandas.core.frame.DataFrame'>\n",
      "Index: 5387 entries, 0 to 2402\n",
      "Data columns (total 15 columns):\n",
      " #   Column                Non-Null Count  Dtype \n",
      "---  ------                --------------  ----- \n",
      " 0   visitorId             0 non-null      Int64 \n",
      " 1   visitNumber           5387 non-null   Int64 \n",
      " 2   visitId               5387 non-null   Int64 \n",
      " 3   visitStartTime        5387 non-null   Int64 \n",
      " 4   date                  5387 non-null   object\n",
      " 5   totals                5387 non-null   object\n",
      " 6   trafficSource         5387 non-null   object\n",
      " 7   device                5387 non-null   object\n",
      " 8   geoNetwork            5387 non-null   object\n",
      " 9   customDimensions      5387 non-null   object\n",
      " 10  hits                  5387 non-null   object\n",
      " 11  fullVisitorId         5387 non-null   object\n",
      " 12  userId                0 non-null      object\n",
      " 13  channelGrouping       5387 non-null   object\n",
      " 14  socialEngagementType  5387 non-null   object\n",
      "dtypes: Int64(4), object(11)\n",
      "memory usage: 694.4+ KB\n"
     ]
    }
   ],
   "source": [
    "df = pd.concat(dataframes)\n",
    "df.info()"
   ],
   "metadata": {
    "collapsed": false,
    "ExecuteTime": {
     "end_time": "2024-06-18T11:06:58.667662800Z",
     "start_time": "2024-06-18T11:06:58.643854600Z"
    }
   },
   "id": "e7e9f3245dad3288",
   "execution_count": 24
  },
  {
   "cell_type": "markdown",
   "source": [
    "Cleaning dataframe from columns with missing values"
   ],
   "metadata": {
    "collapsed": false
   },
   "id": "209708c2741f8f1"
  },
  {
   "cell_type": "code",
   "outputs": [],
   "source": [
    "df = df.drop([\"visitorId\", \"userId\"], axis=1)"
   ],
   "metadata": {
    "collapsed": false,
    "ExecuteTime": {
     "end_time": "2024-06-18T11:07:00.707693300Z",
     "start_time": "2024-06-18T11:07:00.696191100Z"
    }
   },
   "id": "de5dc760231eaf4f",
   "execution_count": 25
  },
  {
   "cell_type": "markdown",
   "source": [
    "Updating data types"
   ],
   "metadata": {
    "collapsed": false
   },
   "id": "6a589f30476358b3"
  },
  {
   "cell_type": "code",
   "outputs": [],
   "source": [
    "df[\"visitNumber\"] = df[\"visitNumber\"].astype(\"uint16\")\n",
    "df[\"date\"] = pd.to_datetime(df[\"date\"], format=\"%Y%m%d\")"
   ],
   "metadata": {
    "collapsed": false
   },
   "id": "8d1351d1973932dd",
   "execution_count": null
  },
  {
   "cell_type": "markdown",
   "source": [
    "Make dataframe samples"
   ],
   "metadata": {
    "collapsed": false
   },
   "id": "3d9332da82c102b7"
  },
  {
   "cell_type": "code",
   "outputs": [],
   "source": [
    "df_channel_counts = df.groupby(\"channelGrouping\").size().reset_index()\n",
    "df_group_by_fullVisitorId = df.groupby(\"fullVisitorId\").size().reset_index()\n",
    "df_group_by_socialEngagementType = (\n",
    "    df.groupby(\"socialEngagementType\").size().reset_index()\n",
    ")\n",
    "\n",
    "\n",
    "dataframes_to_save = {\n",
    "    \"channel_counts\": df_channel_counts,\n",
    "    \"group_by_fullVisitorId\": df_group_by_fullVisitorId,\n",
    "    \"group_by_socialEngagementType\": df_group_by_socialEngagementType,\n",
    "}"
   ],
   "metadata": {
    "collapsed": false,
    "ExecuteTime": {
     "end_time": "2024-06-18T11:07:18.722305100Z",
     "start_time": "2024-06-18T11:07:18.701315700Z"
    }
   },
   "id": "f9dc1e9f34a53c3c",
   "execution_count": 28
  },
  {
   "cell_type": "code",
   "outputs": [],
   "source": [
    "gclient = authenticate(scopes=SCOPES, credentials=GOOGLE_APPLICATION_CREDENTIALS)\n",
    "\n",
    "spreadsheet = create_spreadsheet(gclient, \"task_1\")\n",
    "share_spreadsheet(spreadsheet, EMAIL)"
   ],
   "metadata": {
    "collapsed": false
   },
   "id": "36965840fca61166",
   "execution_count": null
  },
  {
   "cell_type": "markdown",
   "source": [
    "Post dataframes to google sheets"
   ],
   "metadata": {
    "collapsed": false
   },
   "id": "448c76552b35a8f1"
  },
  {
   "cell_type": "code",
   "outputs": [],
   "source": [
    "with ThreadPoolExecutor(4) as executor:\n",
    "    futures = []\n",
    "    for sheet_name, df in dataframes_to_save.items():\n",
    "        futures.append(\n",
    "            executor.submit(\n",
    "                add_worksheet_and_write_data, spreadsheet, df, sheet_name\n",
    "            )\n",
    "        )\n",
    "\n",
    "    for future in futures:\n",
    "        future.result()"
   ],
   "metadata": {
    "collapsed": false,
    "ExecuteTime": {
     "end_time": "2024-06-18T11:07:29.030556700Z",
     "start_time": "2024-06-18T11:07:25.962967300Z"
    }
   },
   "id": "4da01b0562df03b2",
   "execution_count": 30
  }
 ],
 "metadata": {
  "kernelspec": {
   "display_name": "Python 3",
   "language": "python",
   "name": "python3"
  },
  "language_info": {
   "codemirror_mode": {
    "name": "ipython",
    "version": 2
   },
   "file_extension": ".py",
   "mimetype": "text/x-python",
   "name": "python",
   "nbconvert_exporter": "python",
   "pygments_lexer": "ipython2",
   "version": "2.7.6"
  }
 },
 "nbformat": 4,
 "nbformat_minor": 5
}
