{
 "cells": [
  {
   "cell_type": "code",
   "execution_count": 1,
   "id": "initial_id",
   "metadata": {
    "collapsed": true,
    "ExecuteTime": {
     "end_time": "2024-06-18T08:59:08.318767900Z",
     "start_time": "2024-06-18T08:59:05.440277200Z"
    }
   },
   "outputs": [],
   "source": [
    "from datetime import timedelta\n",
    "from datetime import datetime\n",
    "from concurrent.futures import ThreadPoolExecutor\n",
    "\n",
    "import pandas as pd\n",
    "from google.cloud import bigquery\n",
    "from dotenv import load_dotenv"
   ]
  },
  {
   "cell_type": "code",
   "outputs": [],
   "source": [
    "load_dotenv()\n",
    "\n",
    "client = bigquery.Client()"
   ],
   "metadata": {
    "collapsed": false,
    "ExecuteTime": {
     "end_time": "2024-06-18T08:59:08.380736800Z",
     "start_time": "2024-06-18T08:59:08.316768700Z"
    }
   },
   "id": "61b29576405011f0",
   "execution_count": 2
  },
  {
   "cell_type": "markdown",
   "source": [
    "Create a list of queries with specific dates"
   ],
   "metadata": {
    "collapsed": false
   },
   "id": "851033b39856ba3f"
  },
  {
   "cell_type": "code",
   "outputs": [],
   "source": [
    "start_date = datetime(2017, 1, 1)\n",
    "end_date = datetime(2017, 1, 4)\n",
    "\n",
    "current_date = start_date\n",
    "\n",
    "queries = [\n",
    "    f\"SELECT * \"\n",
    "    f\"FROM `bigquery-public-data.google_analytics_sample.ga_sessions_{current_date.strftime('%Y%m%d')}`\"\n",
    "    for current_date in (start_date + timedelta(days=i) for i in range((end_date - start_date).days + 1))\n",
    "]"
   ],
   "metadata": {
    "collapsed": false,
    "ExecuteTime": {
     "end_time": "2024-06-18T08:59:08.382735400Z",
     "start_time": "2024-06-18T08:59:08.357712900Z"
    }
   },
   "id": "c45b626acbb87fb6",
   "execution_count": 3
  },
  {
   "cell_type": "markdown",
   "source": [
    "Concurrently retrieve data from bigquery with list of queries"
   ],
   "metadata": {
    "collapsed": false
   },
   "id": "f8b5e71f8eceea46"
  },
  {
   "cell_type": "code",
   "outputs": [
    {
     "name": "stderr",
     "output_type": "stream",
     "text": [
      "C:\\Users\\PC\\Desktop\\Employment\\newage.agency\\DanaAnalysTT\\.venv\\Lib\\site-packages\\google\\cloud\\bigquery\\table.py:1727: UserWarning: BigQuery Storage module not found, fetch data with the REST endpoint instead.\n",
      "  warnings.warn(\n"
     ]
    }
   ],
   "source": [
    "def execute_query(query):\n",
    "    return client.query(query).to_dataframe()\n",
    "\n",
    "\n",
    "def execute_queries(queries):\n",
    "    with ThreadPoolExecutor(max_workers=4) as executor:\n",
    "        results = executor.map(execute_query, queries)\n",
    "\n",
    "        return list(results)\n",
    "\n",
    "dataframes = execute_queries(queries)"
   ],
   "metadata": {
    "collapsed": false,
    "ExecuteTime": {
     "end_time": "2024-06-18T08:59:41.924686200Z",
     "start_time": "2024-06-18T08:59:08.369743600Z"
    }
   },
   "id": "73ead91882db995e",
   "execution_count": 4
  },
  {
   "cell_type": "markdown",
   "source": [
    "Making dataframe from dataframes list"
   ],
   "metadata": {
    "collapsed": false
   },
   "id": "6d15130f806ace31"
  },
  {
   "cell_type": "code",
   "outputs": [
    {
     "name": "stdout",
     "output_type": "stream",
     "text": [
      "<class 'pandas.core.frame.DataFrame'>\n",
      "Index: 7777 entries, 0 to 2389\n",
      "Data columns (total 15 columns):\n",
      " #   Column                Non-Null Count  Dtype \n",
      "---  ------                --------------  ----- \n",
      " 0   visitorId             0 non-null      Int64 \n",
      " 1   visitNumber           7777 non-null   Int64 \n",
      " 2   visitId               7777 non-null   Int64 \n",
      " 3   visitStartTime        7777 non-null   Int64 \n",
      " 4   date                  7777 non-null   object\n",
      " 5   totals                7777 non-null   object\n",
      " 6   trafficSource         7777 non-null   object\n",
      " 7   device                7777 non-null   object\n",
      " 8   geoNetwork            7777 non-null   object\n",
      " 9   customDimensions      7777 non-null   object\n",
      " 10  hits                  7777 non-null   object\n",
      " 11  fullVisitorId         7777 non-null   object\n",
      " 12  userId                0 non-null      object\n",
      " 13  channelGrouping       7777 non-null   object\n",
      " 14  socialEngagementType  7777 non-null   object\n",
      "dtypes: Int64(4), object(11)\n",
      "memory usage: 1002.5+ KB\n"
     ]
    }
   ],
   "source": [
    "df = pd.concat(dataframes)\n",
    "df.info()"
   ],
   "metadata": {
    "collapsed": false,
    "ExecuteTime": {
     "end_time": "2024-06-18T09:05:36.597093Z",
     "start_time": "2024-06-18T09:05:36.572430400Z"
    }
   },
   "id": "36f8894fa3eaaebd",
   "execution_count": 8
  }
 ],
 "metadata": {
  "kernelspec": {
   "display_name": "Python 3",
   "language": "python",
   "name": "python3"
  },
  "language_info": {
   "codemirror_mode": {
    "name": "ipython",
    "version": 2
   },
   "file_extension": ".py",
   "mimetype": "text/x-python",
   "name": "python",
   "nbconvert_exporter": "python",
   "pygments_lexer": "ipython2",
   "version": "2.7.6"
  }
 },
 "nbformat": 4,
 "nbformat_minor": 5
}
