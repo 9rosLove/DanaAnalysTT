{
 "cells": [
  {
   "cell_type": "code",
   "execution_count": 1,
   "id": "initial_id",
   "metadata": {
    "collapsed": true,
    "ExecuteTime": {
     "end_time": "2024-06-18T12:17:38.617936400Z",
     "start_time": "2024-06-18T12:17:36.164330300Z"
    }
   },
   "outputs": [],
   "source": [
    "import pandas as pd\n",
    "from parse import get_all_apartments\n",
    "\n",
    "from config import GOOGLE_APPLICATION_CREDENTIALS, SCOPES, EMAIL\n",
    "from utils import (\n",
    "    create_spreadsheet,\n",
    "    share_spreadsheet,\n",
    "    authenticate,\n",
    "    add_worksheet_and_write_data,\n",
    ")"
   ]
  },
  {
   "cell_type": "code",
   "outputs": [
    {
     "name": "stderr",
     "output_type": "stream",
     "text": [
      "2024-06-18 15:17:40,669 - INFO - Getting webdriver...\n",
      "2024-06-18 15:17:50,826 - INFO - Apartments found: True\n",
      "2024-06-18 15:17:50,953 - INFO - Pages found: 3\n",
      "2024-06-18 15:17:50,953 - INFO - Getting page: https://www.olx.ua/uk/nedvizhimost/kvartiry/prodazha-kvartir/?currency=UAH&search%5Bfilter_float_price%3Ato%5D=500000&search%5Bfilter_float_total_area%3Afrom%5D=80&page=1\n",
      "2024-06-18 15:17:57,918 - INFO - Getting page: https://www.olx.ua/uk/nedvizhimost/kvartiry/prodazha-kvartir/?currency=UAH&search%5Bfilter_float_price%3Ato%5D=500000&search%5Bfilter_float_total_area%3Afrom%5D=80&page=2\n",
      "2024-06-18 15:18:05,291 - INFO - Getting page: https://www.olx.ua/uk/nedvizhimost/kvartiry/prodazha-kvartir/?currency=UAH&search%5Bfilter_float_price%3Ato%5D=500000&search%5Bfilter_float_total_area%3Afrom%5D=80&page=3\n",
      "2024-06-18 15:18:08,897 - INFO - Parsing 82 apartments\n",
      "2024-06-18 15:18:08,897 - INFO - Parsing apartment number 1: https://www.olx.ua/d/uk/obyavlenie/kvatira-3-kmnati-IDUhTJz.html\n",
      "2024-06-18 15:18:12,287 - INFO - Parsing apartment number 2: https://www.olx.ua/d/uk/obyavlenie/kvartira-4-kmnatna-IDLZOXb.html\n",
      "2024-06-18 15:18:18,085 - INFO - Parsing apartment number 3: https://www.olx.ua/d/uk/obyavlenie/prodam-3-komnatnuyu-kvartiru-IDUWc8R.html\n",
      "2024-06-18 15:18:22,517 - INFO - Parsing apartment number 4: https://www.olx.ua/d/uk/obyavlenie/kvartira-3-komnaty-v-povstancheskom-IDQYrMa.html\n",
      "2024-06-18 15:18:26,844 - INFO - Parsing apartment number 5: https://www.olx.ua/d/uk/obyavlenie/3h-kom-kvartira-86-6-kv-m-kamenskoe-uhtomskogo-19-ili-pod-kommertsiyu-IDUwwYJ.html\n",
      "2024-06-18 15:18:30,072 - INFO - Parsing apartment number 6: https://www.olx.ua/d/uk/obyavlenie/prodamo-odnokmnatnu-kvartiru-u-mst-rudki-lvvska-oblast-sambrs-IDWkMHU.html\n",
      "2024-06-18 15:18:34,776 - INFO - Parsing apartment number 7: https://www.olx.ua/d/uk/obyavlenie/prodazh-4kmnatno-kvartiri-v-rayon-pvnchnogo-IDWxTxc.html\n",
      "2024-06-18 15:18:38,161 - INFO - Parsing apartment number 8: https://www.olx.ua/d/uk/obyavlenie/3-komnaty-89-m2-na-metallurgov-v-podvalnom-etazhe-vozle-makdonaldsa-IDQxXGa.html\n",
      "2024-06-18 15:18:42,939 - INFO - Parsing apartment number 9: https://www.olx.ua/d/uk/obyavlenie/prodam-kvartiru-IDIeERX.html\n",
      "2024-06-18 15:18:46,134 - INFO - Parsing apartment number 10: https://www.olx.ua/d/uk/obyavlenie/prodam-kvartiru-IDWdJLU.html\n",
      "2024-06-18 15:18:49,745 - INFO - Parsing apartment number 11: https://www.olx.ua/d/uk/obyavlenie/prodam-kvartiru-s-stara-chortoriya-IDRy4RO.html\n",
      "2024-06-18 15:18:53,226 - INFO - Parsing apartment number 12: https://www.olx.ua/d/uk/obyavlenie/prodam-gostinku-po-ul-paschenkovska-vanvka-IDW9bBv.html\n",
      "2024-06-18 15:18:56,643 - INFO - Parsing apartment number 13: https://www.olx.ua/d/uk/obyavlenie/prodam-kv-srochno-IDWlgHE.html\n",
      "2024-06-18 15:19:01,333 - INFO - Parsing apartment number 14: https://www.olx.ua/d/uk/obyavlenie/prodam-veliku-3-kmnatnu-kvartiru-vul-b-hmelnitskogo-apostolovo-IDQfWg3.html\n",
      "2024-06-18 15:19:06,973 - INFO - Parsing apartment number 15: https://www.olx.ua/d/uk/obyavlenie/prodam-kvartiru-potrebu-kaptalnogo-remontu-IDTbOsD.html\n",
      "2024-06-18 15:19:11,465 - INFO - Parsing apartment number 16: https://www.olx.ua/d/uk/obyavlenie/prodam-3k-kvartiru-avtonomnoe-otoplenie-IDNizIX.html\n",
      "2024-06-18 15:19:15,001 - INFO - Parsing apartment number 17: https://www.olx.ua/d/uk/obyavlenie/prodazh-3h-kmnatno-kvartiri-v-mst-lyubotin-IDSqMyK.html\n",
      "2024-06-18 15:19:19,019 - INFO - Parsing apartment number 18: https://www.olx.ua/d/uk/obyavlenie/prodam-kvartiru-tsentr-vradievka-IDWlC01.html\n",
      "2024-06-18 15:19:23,852 - INFO - Parsing apartment number 19: https://www.olx.ua/d/uk/obyavlenie/prodam-3h-kv-80m-svodyanoe-verhnedneprovskogo-r-na-mozhn280-postanova-IDURd2o.html\n",
      "2024-06-18 15:19:29,503 - INFO - Parsing apartment number 20: https://www.olx.ua/d/uk/obyavlenie/prodam-kvartiru-v-tsentre-3-h-komnatnuyu-IDWuA4g.html\n",
      "2024-06-18 15:19:34,072 - INFO - Parsing apartment number 21: https://www.olx.ua/d/uk/obyavlenie/prodam-kvarartiru-barochnogo-tipu-IDWyaaE.html\n",
      "2024-06-18 15:19:40,072 - INFO - Parsing apartment number 22: https://www.olx.ua/d/uk/obyavlenie/kvartira-tri-kmnatna-IDHZV2z.html\n",
      "2024-06-18 15:19:44,716 - INFO - Parsing apartment number 23: https://www.olx.ua/d/uk/obyavlenie/prodam-v-tsentre-sela-kvartiru-4-k-poltavskaya-oblast-gadyachskiy-r-n-IDHIZrt.html\n",
      "2024-06-18 15:19:50,468 - INFO - Parsing apartment number 24: https://www.olx.ua/d/uk/obyavlenie/kvartira-3-kmnatna-vyskove-mstechko-87-kvm-gastello-IDRJDYx.html\n",
      "2024-06-18 15:19:55,943 - INFO - Parsing apartment number 25: https://www.olx.ua/d/uk/obyavlenie/3-k-kvartira-v-sarate-IDBJ3Dr.html\n",
      "2024-06-18 15:20:01,262 - INFO - Parsing apartment number 26: https://www.olx.ua/d/uk/obyavlenie/4-h-kmnatna-kvartira-IDUCKJL.html\n",
      "2024-06-18 15:20:06,014 - INFO - Parsing apartment number 27: https://www.olx.ua/d/uk/obyavlenie/kvartira-93kv-m-IDSP31f.html\n",
      "2024-06-18 15:20:14,823 - INFO - Parsing apartment number 28: https://www.olx.ua/d/uk/obyavlenie/prodam-trikmnatnu-kvartiru-300000-grn-IDWrwGT.html\n",
      "2024-06-18 15:20:20,551 - INFO - Parsing apartment number 29: https://www.olx.ua/d/uk/obyavlenie/prodazha-kvartir-1-2-3-IDT3lol.html\n",
      "2024-06-18 15:20:28,253 - INFO - Parsing apartment number 30: https://www.olx.ua/d/uk/obyavlenie/pridbayte-prostoru-3k-kvartiru-v-rpen-dealniy-varant-dlya-sm-IDWsruk.html\n",
      "2024-06-18 15:20:33,627 - INFO - Parsing apartment number 31: https://www.olx.ua/d/uk/obyavlenie/neruhomst-kvartira-IDG6E92.html\n",
      "2024-06-18 15:20:38,283 - INFO - Parsing apartment number 32: https://www.olx.ua/d/uk/obyavlenie/prodazh-4k-kvartira-gerov-krut-oselya-IDWy1Do.html\n",
      "2024-06-18 15:20:44,030 - INFO - Parsing apartment number 33: https://www.olx.ua/d/uk/obyavlenie/prodam-dobrotnyy-kirpichnyy-dom-v-g-reni-IDWtoT2.html\n",
      "2024-06-18 15:20:49,056 - INFO - Parsing apartment number 34: https://www.olx.ua/d/uk/obyavlenie/prodam-chetyreh-komnatnuyu-kvartiru-IDW0qc6.html\n",
      "2024-06-18 15:20:52,443 - INFO - Parsing apartment number 35: https://www.olx.ua/d/uk/obyavlenie/prodatsya-3-h-km-kvartira-v-s-yosipvka-IDUvsZv.html\n",
      "2024-06-18 15:20:56,080 - INFO - Parsing apartment number 36: https://www.olx.ua/d/uk/obyavlenie/prodam-6-ti-komnatnuyu-kvartiru-IDWr42b.html\n",
      "2024-06-18 15:21:01,394 - INFO - Parsing apartment number 37: https://www.olx.ua/d/uk/obyavlenie/prodam-2h-komnatnuyu-kvartiru-v-margantse-4000-v-margantse-IDW9mVi.html\n",
      "2024-06-18 15:21:08,452 - INFO - Parsing apartment number 38: https://www.olx.ua/d/uk/obyavlenie/prodazh-tseglyanogo-budinku-yarmolinetskiy-rayon-IDW8Ogd.html\n",
      "2024-06-18 15:21:17,034 - INFO - Parsing apartment number 39: https://www.olx.ua/d/uk/obyavlenie/prodatsya-3-h-kmnatna-kvartira-smt-vendichani-IDAS90V.html\n",
      "2024-06-18 15:21:24,986 - INFO - Parsing apartment number 40: https://www.olx.ua/d/uk/obyavlenie/dvuhetazhnaya-kvartira-IDIPB9i.html\n",
      "2024-06-18 15:21:32,315 - INFO - Parsing apartment number 41: https://www.olx.ua/d/uk/obyavlenie/kvartira-4h-komnatnaya-v-chkalovskom-IDQJLVS.html\n",
      "2024-06-18 15:21:38,102 - INFO - Parsing apartment number 42: https://www.olx.ua/d/uk/obyavlenie/kvartira-5-kmnat-na-berez-limanu-IDPS6u1.html\n",
      "2024-06-18 15:21:45,815 - INFO - Parsing apartment number 43: https://www.olx.ua/d/uk/obyavlenie/kvartira-druzhkovka-IDULdRq.html\n",
      "2024-06-18 15:21:56,139 - INFO - Parsing apartment number 44: https://www.olx.ua/d/uk/obyavlenie/prodam-dvuhkomnatnuyu-kvartiru-i-magazin-IDTVWMa.html\n",
      "2024-06-18 15:22:01,250 - INFO - Parsing apartment number 45: https://www.olx.ua/d/uk/obyavlenie/prodam-kvartiru-pd-remont-abo-obmn-na-avtomobl-IDULjkl.html\n",
      "2024-06-18 15:22:04,991 - INFO - Parsing apartment number 46: https://www.olx.ua/d/uk/obyavlenie/privatniy-budinok-IDW2OMW.html\n",
      "2024-06-18 15:22:08,171 - INFO - Parsing apartment number 47: https://www.olx.ua/d/uk/obyavlenie/prodazh-kvartiri-IDWbTtg.html\n",
      "2024-06-18 15:22:12,374 - INFO - Parsing apartment number 48: https://www.olx.ua/d/uk/obyavlenie/kvartira-1-2-chast-4hkomnatnoy-kvartiry-IDSujmD.html\n",
      "2024-06-18 15:22:18,915 - INFO - Parsing apartment number 49: https://www.olx.ua/d/uk/obyavlenie/prodam-3h-komnatnuyu-kvartiru-sinelnikovo-IDWyme5.html\n",
      "2024-06-18 15:22:24,521 - INFO - Parsing apartment number 50: https://www.olx.ua/d/uk/obyavlenie/prodam-dm-z-garnimi-apartamentami-IDWr79J.html\n",
      "2024-06-18 15:22:28,369 - INFO - Parsing apartment number 51: https://www.olx.ua/d/uk/obyavlenie/srochno-prodam-kvartiru-ili-obmen-rayon-ili-gorod-IDUgE4F.html\n",
      "2024-06-18 15:22:35,107 - INFO - Parsing apartment number 52: https://www.olx.ua/d/uk/obyavlenie/stalinka-5-ti-komnatnaya-ul-kahovskaya-trampark-IDUalLC.html\n",
      "2024-06-18 15:22:40,489 - INFO - Parsing apartment number 53: https://www.olx.ua/d/uk/obyavlenie/super-3kv-super-mesto-super-tsena-IDWyowV.html\n",
      "2024-06-18 15:22:45,525 - INFO - Parsing apartment number 54: https://www.olx.ua/d/uk/obyavlenie/velika-4k-na-vul-musorgskogo-r-n-44-kvartalu-16-mska-lkarnya-IDUsCfj.html\n",
      "2024-06-18 15:22:49,742 - INFO - Parsing apartment number 55: https://www.olx.ua/d/uk/obyavlenie/podval-pomeschenie-118m-ul-lysenka-13-srochno-IDWtBCZ.html\n",
      "2024-06-18 15:22:54,019 - INFO - Parsing apartment number 56: https://www.olx.ua/d/uk/obyavlenie/prodam-3-komnatnuyu-kvartiru-mar-IDSt1Jo.html\n",
      "2024-06-18 15:23:09,881 - INFO - Parsing apartment number 57: https://www.olx.ua/d/uk/obyavlenie/3-komnatnaya-kvartira-s-remontom-nedorogo-garazh-i-ogorod-v-podarok-IDUgztd.html\n",
      "2024-06-18 15:23:14,349 - INFO - Parsing apartment number 58: https://www.olx.ua/d/uk/obyavlenie/kvartira-v-pokrovsk-IDWw3YE.html\n",
      "2024-06-18 15:23:18,895 - INFO - Parsing apartment number 59: https://www.olx.ua/d/uk/obyavlenie/prodam-3-i-kmnantu-kvartiru-kotelva-vul-lermontova-5-IDIo1iN.html\n",
      "2024-06-18 15:23:27,511 - INFO - Parsing apartment number 60: https://www.olx.ua/d/uk/obyavlenie/srochno-v-prodazhe-kommunalnaya-kvartira-na-1-st-lyustdorfskoy-doroge-IDWmR71.html\n",
      "2024-06-18 15:23:34,241 - INFO - Parsing apartment number 61: https://www.olx.ua/d/uk/obyavlenie/termnovo-prodam-neruhomst-solonitsvka-novobudova-IDWckSY.html\n",
      "2024-06-18 15:23:37,660 - INFO - Parsing apartment number 62: https://www.olx.ua/d/uk/obyavlenie/3-h-komnatnaya-80-m2-10000-IDzWcVG.html\n",
      "2024-06-18 15:23:42,260 - INFO - Parsing apartment number 63: https://www.olx.ua/d/uk/obyavlenie/2v-kvartiri-na-odny-rloschadts-IDEZztf.html\n",
      "2024-06-18 15:23:45,576 - INFO - Parsing apartment number 64: https://www.olx.ua/d/uk/obyavlenie/3h-kmnatna-kvartira-v-s-yosipvka-IDNto4G.html\n",
      "2024-06-18 15:23:50,900 - INFO - Parsing apartment number 65: https://www.olx.ua/d/uk/obyavlenie/prodam-termnovo-IDW6vxL.html\n",
      "2024-06-18 15:23:54,491 - INFO - Parsing apartment number 66: https://www.olx.ua/d/uk/obyavlenie/prodam-kvartiru-v-s-nabutv-IDFRJx9.html\n",
      "2024-06-18 15:23:58,269 - INFO - Parsing apartment number 67: https://www.olx.ua/d/uk/obyavlenie/prodazha-kvartiry-IDWjAEI.html\n",
      "2024-06-18 15:24:01,844 - INFO - Parsing apartment number 68: https://www.olx.ua/d/uk/obyavlenie/kvartira-4h-komnatnaya-IDWgat2.html\n",
      "2024-06-18 15:24:05,487 - INFO - Parsing apartment number 69: https://www.olx.ua/d/uk/obyavlenie/prodam-4k-kvartiru-ili-obmen-na-avtomobil-IDTmA3h.html\n",
      "2024-06-18 15:24:12,489 - INFO - Parsing apartment number 70: https://www.olx.ua/d/uk/obyavlenie/srochno-prodam-kvartiru-treshka-shikarnaya-kvadratura-IDTAZiw.html\n",
      "2024-06-18 15:24:15,945 - INFO - Parsing apartment number 71: https://www.olx.ua/d/uk/obyavlenie/nivki-park-dvohrvneva-IDWqYKV.html\n",
      "2024-06-18 15:24:19,770 - INFO - Parsing apartment number 72: https://www.olx.ua/d/uk/obyavlenie/prodam-kvartiru-89-8-kv-m-s-yuhimvts-IDSN4nA.html\n",
      "2024-06-18 15:24:23,200 - INFO - Parsing apartment number 73: https://www.olx.ua/d/uk/obyavlenie/prodam-kvartiru-4-kmnati-IDOSY6s.html\n",
      "2024-06-18 15:24:26,480 - INFO - Parsing apartment number 74: https://www.olx.ua/d/uk/obyavlenie/prodam-veliku-zatishnu-hatu-s-steblv-IDWeFzP.html\n",
      "2024-06-18 15:24:34,396 - INFO - Parsing apartment number 75: https://www.olx.ua/d/uk/obyavlenie/kvartira-hata-zhitlo-budinok-IDLlocD.html\n",
      "2024-06-18 15:24:42,512 - INFO - Parsing apartment number 76: https://www.olx.ua/d/uk/obyavlenie/prodam-4-komnatnuyu-kvartiru-s-avtonomnym-gazovym-otopleniem-IDUx44d.html\n",
      "2024-06-18 15:24:52,728 - INFO - Parsing apartment number 77: https://www.olx.ua/d/uk/obyavlenie/respublka-prodazh-eksklyuzivno-vidovo-dvokmnatno-kvartiri-z-terasoyu-IDWv6tj.html\n",
      "2024-06-18 15:25:03,628 - INFO - Parsing apartment number 78: https://www.olx.ua/d/uk/obyavlenie/prodazh-obmn-kvartira-lebedin-IDKgY5S.html\n",
      "2024-06-18 15:25:11,255 - INFO - Parsing apartment number 79: https://www.olx.ua/d/uk/obyavlenie/prodam-kvartiru-5ti-kmnatna-stalnka-IDUQ7H2.html\n",
      "2024-06-18 15:25:18,928 - INFO - Parsing apartment number 80: https://www.olx.ua/d/uk/obyavlenie/prodam-4-h-kmnatnu-kvartiru-v-sel-noviy-milyatin-IDW6c9d.html\n",
      "2024-06-18 15:25:36,394 - INFO - Parsing apartment number 81: https://www.olx.ua/d/uk/obyavlenie/kvartira-v-bogdanvts-prodam-termnovo-IDR58uc.html\n",
      "2024-06-18 15:25:43,226 - INFO - Parsing apartment number 82: https://www.olx.ua/d/uk/obyavlenie/prodam-svoyu-3-h-komnatnuyu-kvartiru-v-s-petrovka-stantsiya-buyalyk-IDT8IHe.html\n",
      "2024-06-18 15:25:51,363 - INFO - Done!\n"
     ]
    }
   ],
   "source": [
    "apartments = get_all_apartments()"
   ],
   "metadata": {
    "collapsed": false,
    "ExecuteTime": {
     "end_time": "2024-06-18T12:26:00.438032Z",
     "start_time": "2024-06-18T12:17:40.671722200Z"
    }
   },
   "id": "d5ea3ede83cd0767",
   "execution_count": 2
  },
  {
   "cell_type": "code",
   "outputs": [
    {
     "name": "stdout",
     "output_type": "stream",
     "text": [
      "<class 'pandas.core.frame.DataFrame'>\n",
      "RangeIndex: 82 entries, 0 to 81\n",
      "Data columns (total 7 columns):\n",
      " #   Column    Non-Null Count  Dtype  \n",
      "---  ------    --------------  -----  \n",
      " 0   price     82 non-null     int32  \n",
      " 1   currency  82 non-null     object \n",
      " 2   floor     82 non-null     int16  \n",
      " 3   floors    82 non-null     int16  \n",
      " 4   area_sqm  82 non-null     float32\n",
      " 5   location  82 non-null     object \n",
      " 6   url       82 non-null     object \n",
      "dtypes: float32(1), int16(2), int32(1), object(3)\n",
      "memory usage: 3.0+ KB\n"
     ]
    }
   ],
   "source": [
    "df = pd.DataFrame([apartment.__dict__ for apartment in apartments])\n",
    "int16_cols = [ \"floor\", \"floors\"]\n",
    "\n",
    "df[int16_cols] = df[int16_cols].astype('int16')\n",
    "df[\"price\"] = df[\"price\"].astype('int32')\n",
    "df[\"area_sqm\"] = df[\"area_sqm\"].astype('float32')\n",
    "\n",
    "df.info()"
   ],
   "metadata": {
    "collapsed": false,
    "ExecuteTime": {
     "end_time": "2024-06-18T12:26:07.134070900Z",
     "start_time": "2024-06-18T12:26:06.941966Z"
    }
   },
   "id": "f0859fd020323cb8",
   "execution_count": 3
  },
  {
   "cell_type": "code",
   "outputs": [],
   "source": [
    "client = authenticate(\n",
    "    credentials=GOOGLE_APPLICATION_CREDENTIALS,\n",
    "    scopes=SCOPES\n",
    ")\n",
    "spreadsheet = create_spreadsheet(client, \"task_3\")\n",
    "share_spreadsheet(spreadsheet, EMAIL)\n",
    "add_worksheet_and_write_data(spreadsheet, df, \"apartments\")"
   ],
   "metadata": {
    "collapsed": false,
    "ExecuteTime": {
     "end_time": "2024-06-18T12:26:17.346210300Z",
     "start_time": "2024-06-18T12:26:10.080810300Z"
    }
   },
   "id": "99681429a5bef01",
   "execution_count": 4
  }
 ],
 "metadata": {
  "kernelspec": {
   "display_name": "Python 3",
   "language": "python",
   "name": "python3"
  },
  "language_info": {
   "codemirror_mode": {
    "name": "ipython",
    "version": 2
   },
   "file_extension": ".py",
   "mimetype": "text/x-python",
   "name": "python",
   "nbconvert_exporter": "python",
   "pygments_lexer": "ipython2",
   "version": "2.7.6"
  }
 },
 "nbformat": 4,
 "nbformat_minor": 5
}
