{
 "cells": [
  {
   "cell_type": "code",
   "execution_count": 1,
   "id": "e9f13604441ebb32",
   "metadata": {
    "collapsed": false,
    "ExecuteTime": {
     "end_time": "2024-06-18T13:56:21.850775900Z",
     "start_time": "2024-06-18T13:56:18.949595700Z"
    }
   },
   "outputs": [],
   "source": [
    "import pandas as pd\n",
    "from parse import get_all_apartments\n",
    "\n",
    "from config import GOOGLE_APPLICATION_CREDENTIALS, SCOPES, EMAIL\n",
    "from utils import (\n",
    "    create_spreadsheet,\n",
    "    share_spreadsheet,\n",
    "    authenticate,\n",
    "    add_worksheet_and_write_data,\n",
    ")"
   ]
  },
  {
   "cell_type": "markdown",
   "source": [
    "Parse apartment data"
   ],
   "metadata": {
    "collapsed": false
   },
   "id": "2c2fff9256995f81"
  },
  {
   "cell_type": "code",
   "outputs": [
    {
     "name": "stderr",
     "output_type": "stream",
     "text": [
      "2024-06-18 16:56:28,513 - INFO - Getting webdriver...\n",
      "2024-06-18 16:56:43,739 - INFO - Apartments found: True\n",
      "2024-06-18 16:56:44,173 - INFO - Pages found: 2\n",
      "2024-06-18 16:56:44,174 - INFO - Getting page: https://www.olx.ua/uk/nedvizhimost/kvartiry/prodazha-kvartir/?currency=UAH&search%5Bfilter_float_price%3Ato%5D=500000&search%5Bfilter_float_total_area%3Afrom%5D=80&page=1\n",
      "2024-06-18 16:56:52,076 - INFO - Getting page: https://www.olx.ua/uk/nedvizhimost/kvartiry/prodazha-kvartir/?currency=UAH&search%5Bfilter_float_price%3Ato%5D=500000&search%5Bfilter_float_total_area%3Afrom%5D=80&page=2\n",
      "2024-06-18 16:57:06,015 - INFO - Parsing 79 apartments\n",
      "2024-06-18 16:57:06,017 - INFO - Parsing apartment number 1: https://www.olx.ua/d/uk/obyavlenie/2v-kvartiri-na-odny-rloschadts-IDEZztf.html\n",
      "2024-06-18 16:57:12,237 - INFO - Parsing apartment number 2: https://www.olx.ua/d/uk/obyavlenie/prodam-kvartiru-v-tsentre-3-h-komnatnuyu-IDWuA4g.html\n",
      "2024-06-18 16:57:18,803 - INFO - Parsing apartment number 3: https://www.olx.ua/d/uk/obyavlenie/prodam-kvartiru-s-stara-chortoriya-IDRy4RO.html\n",
      "2024-06-18 16:57:25,381 - INFO - Parsing apartment number 4: https://www.olx.ua/d/uk/obyavlenie/neruhomst-kvartira-IDG6E92.html\n",
      "2024-06-18 16:57:32,782 - INFO - Parsing apartment number 5: https://www.olx.ua/d/uk/obyavlenie/srochno-v-prodazhe-kommunalnaya-kvartira-na-1-st-lyustdorfskoy-doroge-IDWmR71.html\n",
      "2024-06-18 16:57:40,324 - INFO - Parsing apartment number 6: https://www.olx.ua/d/uk/obyavlenie/kvartira-tri-kmnatna-IDHZV2z.html\n",
      "2024-06-18 16:57:45,481 - INFO - Parsing apartment number 7: https://www.olx.ua/d/uk/obyavlenie/srochno-prodam-kvartiru-treshka-shikarnaya-kvadratura-IDTAZiw.html\n",
      "2024-06-18 16:57:51,045 - INFO - Parsing apartment number 8: https://www.olx.ua/d/uk/obyavlenie/prodam-kvartiru-4-h-kmnatnu-IDSMwbd.html\n",
      "2024-06-18 16:57:55,282 - INFO - Parsing apartment number 9: https://www.olx.ua/d/uk/obyavlenie/prodam-kvartiru-IDWdJLU.html\n",
      "2024-06-18 16:57:58,730 - INFO - Parsing apartment number 10: https://www.olx.ua/d/uk/obyavlenie/prodam-kvartiru-v-s-nabutv-IDFRJx9.html\n",
      "2024-06-18 16:58:01,868 - INFO - Parsing apartment number 11: https://www.olx.ua/d/uk/obyavlenie/kvartira-1-2-chast-4hkomnatnoy-kvartiry-IDSujmD.html\n",
      "2024-06-18 16:58:06,489 - INFO - Parsing apartment number 12: https://www.olx.ua/d/uk/obyavlenie/respublka-prodazh-eksklyuzivno-vidovo-dvokmnatno-kvartiri-z-terasoyu-IDWv6tj.html\n",
      "2024-06-18 16:58:10,723 - INFO - Parsing apartment number 13: https://www.olx.ua/d/uk/obyavlenie/prodam-3h-kv-80m-svodyanoe-verhnedneprovskogo-r-na-mozhn280-postanova-IDURd2o.html\n",
      "2024-06-18 16:58:16,114 - INFO - Parsing apartment number 14: https://www.olx.ua/d/uk/obyavlenie/prodazh-kvartiri-IDWbTtg.html\n",
      "2024-06-18 16:58:20,252 - INFO - Parsing apartment number 15: https://www.olx.ua/d/uk/obyavlenie/dvuhetazhnaya-kvartira-IDIPB9i.html\n",
      "2024-06-18 16:58:23,917 - INFO - Parsing apartment number 16: https://www.olx.ua/d/uk/obyavlenie/kvartira-druzhkovka-IDULdRq.html\n",
      "2024-06-18 16:58:29,482 - INFO - Parsing apartment number 17: https://www.olx.ua/d/uk/obyavlenie/prodam-4-h-kmnatnu-kvartiru-v-sel-noviy-milyatin-IDW6c9d.html\n",
      "2024-06-18 16:58:33,814 - INFO - Parsing apartment number 18: https://www.olx.ua/d/uk/obyavlenie/prodam-kv-srochno-IDWlgHE.html\n",
      "2024-06-18 16:58:37,264 - INFO - Parsing apartment number 19: https://www.olx.ua/d/uk/obyavlenie/podval-pomeschenie-118m-ul-lysenka-13-srochno-IDWtBCZ.html\n",
      "2024-06-18 16:58:40,699 - INFO - Parsing apartment number 20: https://www.olx.ua/d/uk/obyavlenie/prodam-6-ti-komnatnuyu-kvartiru-IDWr42b.html\n",
      "2024-06-18 16:58:46,677 - INFO - Parsing apartment number 21: https://www.olx.ua/d/uk/obyavlenie/prodam-3-komnatnuyu-kvartiru-IDUWc8R.html\n",
      "2024-06-18 16:58:51,129 - INFO - Parsing apartment number 22: https://www.olx.ua/d/uk/obyavlenie/prodazh-3h-kmnatno-kvartiri-v-mst-lyubotin-IDSqMyK.html\n",
      "2024-06-18 16:58:55,054 - INFO - Parsing apartment number 23: https://www.olx.ua/d/uk/obyavlenie/prodam-3-i-kmnantu-kvartiru-kotelva-vul-lermontova-5-IDIo1iN.html\n",
      "2024-06-18 16:59:00,401 - INFO - Parsing apartment number 24: https://www.olx.ua/d/uk/obyavlenie/prodazha-kvartiry-IDWjAEI.html\n",
      "2024-06-18 16:59:07,409 - INFO - Parsing apartment number 25: https://www.olx.ua/d/uk/obyavlenie/kvatira-3-kmnati-IDUhTJz.html\n",
      "2024-06-18 16:59:13,650 - INFO - Parsing apartment number 26: https://www.olx.ua/d/uk/obyavlenie/prodam-chetyreh-komnatnuyu-kvartiru-IDW0qc6.html\n",
      "2024-06-18 16:59:17,499 - INFO - Parsing apartment number 27: https://www.olx.ua/d/uk/obyavlenie/3h-kom-kvartira-86-6-kv-m-kamenskoe-uhtomskogo-19-ili-pod-kommertsiyu-IDUwwYJ.html\n",
      "2024-06-18 16:59:22,422 - INFO - Parsing apartment number 28: https://www.olx.ua/d/uk/obyavlenie/prodam-2h-komnatnuyu-kvartiru-v-margantse-4000-v-margantse-IDW9mVi.html\n",
      "2024-06-18 16:59:27,496 - INFO - Parsing apartment number 29: https://www.olx.ua/d/uk/obyavlenie/velika-4k-na-vul-musorgskogo-r-n-44-kvartalu-16-mska-lkarnya-IDUsCfj.html\n",
      "2024-06-18 16:59:30,854 - INFO - Parsing apartment number 30: https://www.olx.ua/d/uk/obyavlenie/prodam-kvartiru-89-8-kv-m-s-yuhimvts-IDSN4nA.html\n",
      "2024-06-18 16:59:34,353 - INFO - Parsing apartment number 31: https://www.olx.ua/d/uk/obyavlenie/prodam-dobrotnyy-kirpichnyy-dom-v-g-reni-IDWtoT2.html\n",
      "2024-06-18 16:59:39,365 - INFO - Parsing apartment number 32: https://www.olx.ua/d/uk/obyavlenie/kvartira-3-komnaty-v-povstancheskom-IDQYrMa.html\n",
      "2024-06-18 16:59:44,033 - INFO - Parsing apartment number 33: https://www.olx.ua/d/uk/obyavlenie/pridbayte-prostoru-3k-kvartiru-v-rpen-dealniy-varant-dlya-sm-IDWsruk.html\n",
      "2024-06-18 16:59:47,410 - INFO - Parsing apartment number 34: https://www.olx.ua/d/uk/obyavlenie/prodam-3-komnatnuyu-kvartiru-mar-IDSt1Jo.html\n",
      "2024-06-18 16:59:51,920 - INFO - Parsing apartment number 35: https://www.olx.ua/d/uk/obyavlenie/prodam-trikmnatnu-kvartiru-300000-grn-IDWrwGT.html\n",
      "2024-06-18 16:59:55,695 - INFO - Parsing apartment number 36: https://www.olx.ua/d/uk/obyavlenie/prodam-kvartiru-potrebu-kaptalnogo-remontu-IDTbOsD.html\n",
      "2024-06-18 16:59:59,686 - INFO - Parsing apartment number 37: https://www.olx.ua/d/uk/obyavlenie/kvartira-hata-zhitlo-budinok-IDLlocD.html\n",
      "2024-06-18 17:00:04,654 - INFO - Parsing apartment number 38: https://www.olx.ua/d/uk/obyavlenie/3-h-komnatnaya-80-m2-10000-IDzWcVG.html\n",
      "2024-06-18 17:00:09,062 - INFO - Parsing apartment number 39: https://www.olx.ua/d/uk/obyavlenie/kvartira-4h-komnatnaya-v-chkalovskom-IDQJLVS.html\n",
      "2024-06-18 17:00:13,945 - INFO - Parsing apartment number 40: https://www.olx.ua/d/uk/obyavlenie/prodam-kvarartiru-barochnogo-tipu-IDWyaaE.html\n",
      "2024-06-18 17:00:18,141 - INFO - Parsing apartment number 41: https://www.olx.ua/d/uk/obyavlenie/3-k-kvartira-v-sarate-IDBJ3Dr.html\n",
      "2024-06-18 17:00:23,038 - INFO - Parsing apartment number 42: https://www.olx.ua/d/uk/obyavlenie/prodazh-4k-kvartira-gerov-krut-oselya-IDWy1Do.html\n",
      "2024-06-18 17:00:28,443 - INFO - Parsing apartment number 43: https://www.olx.ua/d/uk/obyavlenie/3-komnatnaya-kvartira-s-remontom-nedorogo-garazh-i-ogorod-v-podarok-IDUgztd.html\n",
      "2024-06-18 17:00:32,358 - INFO - Parsing apartment number 44: https://www.olx.ua/d/uk/obyavlenie/prodatsya-3-h-kmnatna-kvartira-smt-vendichani-IDAS90V.html\n",
      "2024-06-18 17:00:35,776 - INFO - Parsing apartment number 45: https://www.olx.ua/d/uk/obyavlenie/kvartira-3-kmnatna-vyskove-mstechko-87-kvm-gastello-IDRJDYx.html\n",
      "2024-06-18 17:00:39,306 - INFO - Parsing apartment number 46: https://www.olx.ua/d/uk/obyavlenie/prodam-v-tsentre-sela-kvartiru-4-k-poltavskaya-oblast-gadyachskiy-r-n-IDHIZrt.html\n",
      "2024-06-18 17:00:43,138 - INFO - Parsing apartment number 47: https://www.olx.ua/d/uk/obyavlenie/prodam-kvartiru-4-kmnati-IDOSY6s.html\n",
      "2024-06-18 17:00:47,566 - INFO - Parsing apartment number 48: https://www.olx.ua/d/uk/obyavlenie/kvartira-5-kmnat-na-berez-limanu-IDPS6u1.html\n",
      "2024-06-18 17:00:51,074 - INFO - Parsing apartment number 49: https://www.olx.ua/d/uk/obyavlenie/prodam-svoyu-3-h-komnatnuyu-kvartiru-v-s-petrovka-stantsiya-buyalyk-IDT8IHe.html\n",
      "2024-06-18 17:00:57,076 - INFO - Parsing apartment number 50: https://www.olx.ua/d/uk/obyavlenie/kvartira-v-bogdanvts-prodam-termnovo-IDR58uc.html\n",
      "2024-06-18 17:01:01,253 - INFO - Parsing apartment number 51: https://www.olx.ua/d/uk/obyavlenie/prodam-dm-z-garnimi-apartamentami-IDWr79J.html\n",
      "2024-06-18 17:01:04,734 - INFO - Parsing apartment number 52: https://www.olx.ua/d/uk/obyavlenie/3-komnaty-89-m2-na-metallurgov-v-podvalnom-etazhe-vozle-makdonaldsa-IDQxXGa.html\n",
      "2024-06-18 17:01:08,629 - INFO - Parsing apartment number 53: https://www.olx.ua/d/uk/obyavlenie/prodazh-tseglyanogo-budinku-yarmolinetskiy-rayon-IDW8Ogd.html\n",
      "2024-06-18 17:01:14,972 - INFO - Parsing apartment number 54: https://www.olx.ua/d/uk/obyavlenie/prodam-termnovo-IDW6vxL.html\n",
      "2024-06-18 17:01:18,053 - INFO - Parsing apartment number 55: https://www.olx.ua/d/uk/obyavlenie/srochno-prodam-kvartiru-ili-obmen-rayon-ili-gorod-IDUgE4F.html\n",
      "2024-06-18 17:01:22,308 - INFO - Parsing apartment number 56: https://www.olx.ua/d/uk/obyavlenie/prodam-gostinku-po-ul-paschenkovska-vanvka-IDW9bBv.html\n",
      "2024-06-18 17:01:26,289 - INFO - Parsing apartment number 57: https://www.olx.ua/d/uk/obyavlenie/prodam-kvartiru-IDIeERX.html\n",
      "2024-06-18 17:01:29,926 - INFO - Parsing apartment number 58: https://www.olx.ua/d/uk/obyavlenie/3h-kmnatna-kvartira-v-s-yosipvka-IDNto4G.html\n",
      "2024-06-18 17:01:34,424 - INFO - Parsing apartment number 59: https://www.olx.ua/d/uk/obyavlenie/prodazha-kvartir-1-2-3-IDT3lol.html\n",
      "2024-06-18 17:01:37,669 - INFO - Parsing apartment number 60: https://www.olx.ua/d/uk/obyavlenie/prodam-dvuhkomnatnuyu-kvartiru-i-magazin-IDTVWMa.html\n",
      "2024-06-18 17:01:42,063 - INFO - Parsing apartment number 61: https://www.olx.ua/d/uk/obyavlenie/prodam-4-komnatnuyu-kvartiru-s-avtonomnym-gazovym-otopleniem-IDUx44d.html\n",
      "2024-06-18 17:01:47,423 - INFO - Parsing apartment number 62: https://www.olx.ua/d/uk/obyavlenie/privatniy-budinok-IDW2OMW.html\n",
      "2024-06-18 17:01:50,617 - INFO - Parsing apartment number 63: https://www.olx.ua/d/uk/obyavlenie/kvartira-93kv-m-IDSP31f.html\n",
      "2024-06-18 17:01:54,316 - INFO - Parsing apartment number 64: https://www.olx.ua/d/uk/obyavlenie/nivki-park-dvohrvneva-IDWqYKV.html\n",
      "2024-06-18 17:01:58,147 - INFO - Parsing apartment number 65: https://www.olx.ua/d/uk/obyavlenie/kvartira-4-kmnatna-IDLZOXb.html\n",
      "2024-06-18 17:02:02,909 - INFO - Parsing apartment number 66: https://www.olx.ua/d/uk/obyavlenie/prodam-veliku-zatishnu-hatu-s-steblv-IDWeFzP.html\n",
      "2024-06-18 17:02:09,212 - INFO - Parsing apartment number 67: https://www.olx.ua/d/uk/obyavlenie/prodatsya-3-h-km-kvartira-v-s-yosipvka-IDUvsZv.html\n",
      "2024-06-18 17:02:14,509 - INFO - Parsing apartment number 68: https://www.olx.ua/d/uk/obyavlenie/kvartira-v-pokrovsk-IDWw3YE.html\n",
      "2024-06-18 17:02:24,161 - INFO - Parsing apartment number 69: https://www.olx.ua/d/uk/obyavlenie/prodazh-obmn-kvartira-lebedin-IDKgY5S.html\n",
      "2024-06-18 17:02:28,335 - INFO - Parsing apartment number 70: https://www.olx.ua/d/uk/obyavlenie/kvartira-4h-komnatnaya-IDWgat2.html\n",
      "2024-06-18 17:02:33,889 - INFO - Parsing apartment number 71: https://www.olx.ua/d/uk/obyavlenie/prodam-kvartiru-tsentr-vradievka-IDWlC01.html\n",
      "2024-06-18 17:02:39,711 - INFO - Parsing apartment number 72: https://www.olx.ua/d/uk/obyavlenie/prodam-veliku-3-kmnatnu-kvartiru-vul-b-hmelnitskogo-apostolovo-IDQfWg3.html\n",
      "2024-06-18 17:02:45,484 - INFO - Parsing apartment number 73: https://www.olx.ua/d/uk/obyavlenie/termnovo-prodam-neruhomst-solonitsvka-novobudova-IDWckSY.html\n",
      "2024-06-18 17:02:49,815 - INFO - Parsing apartment number 74: https://www.olx.ua/d/uk/obyavlenie/prodam-kvartiru-5ti-kmnatna-stalnka-IDUQ7H2.html\n",
      "2024-06-18 17:02:57,583 - INFO - Parsing apartment number 75: https://www.olx.ua/d/uk/obyavlenie/prodam-3k-kvartiru-avtonomnoe-otoplenie-IDNizIX.html\n",
      "2024-06-18 17:03:04,714 - INFO - Parsing apartment number 76: https://www.olx.ua/d/uk/obyavlenie/stalinka-5-ti-komnatnaya-ul-kahovskaya-trampark-IDUalLC.html\n",
      "2024-06-18 17:03:10,367 - INFO - Parsing apartment number 77: https://www.olx.ua/d/uk/obyavlenie/prodamo-odnokmnatnu-kvartiru-u-mst-rudki-lvvska-oblast-sambrs-IDWkMHU.html\n",
      "2024-06-18 17:03:18,814 - INFO - Parsing apartment number 78: https://www.olx.ua/d/uk/obyavlenie/prodam-kvartiru-pd-remont-abo-obmn-na-avtomobl-IDULjkl.html\n",
      "2024-06-18 17:03:24,819 - INFO - Parsing apartment number 79: https://www.olx.ua/d/uk/obyavlenie/prodayu-trohkmnatnu-kvartiru-vul-nkolska-noviy-budinok-IDWyx2P.html\n",
      "2024-06-18 17:03:30,556 - INFO - Done!\n"
     ]
    }
   ],
   "source": [
    "apartments = get_all_apartments()"
   ],
   "metadata": {
    "collapsed": false,
    "ExecuteTime": {
     "end_time": "2024-06-18T14:03:40.047898300Z",
     "start_time": "2024-06-18T13:56:28.515403500Z"
    }
   },
   "id": "d5ea3ede83cd0767",
   "execution_count": 2
  },
  {
   "cell_type": "markdown",
   "source": [
    "Cleaning the dataframe"
   ],
   "metadata": {
    "collapsed": false
   },
   "id": "55e29a54e9800769"
  },
  {
   "cell_type": "code",
   "outputs": [
    {
     "name": "stdout",
     "output_type": "stream",
     "text": [
      "<class 'pandas.core.frame.DataFrame'>\n",
      "RangeIndex: 79 entries, 0 to 78\n",
      "Data columns (total 7 columns):\n",
      " #   Column    Non-Null Count  Dtype  \n",
      "---  ------    --------------  -----  \n",
      " 0   price     79 non-null     int32  \n",
      " 1   currency  79 non-null     object \n",
      " 2   floor     79 non-null     int16  \n",
      " 3   floors    79 non-null     int16  \n",
      " 4   area_sqm  79 non-null     float32\n",
      " 5   location  79 non-null     object \n",
      " 6   url       79 non-null     object \n",
      "dtypes: float32(1), int16(2), int32(1), object(3)\n",
      "memory usage: 2.9+ KB\n"
     ]
    }
   ],
   "source": [
    "df = pd.DataFrame([apartment.__dict__ for apartment in apartments])\n",
    "int16_cols = [ \"floor\", \"floors\"]\n",
    "\n",
    "df[int16_cols] = df[int16_cols].astype('int16')\n",
    "df[\"price\"] = df[\"price\"].astype('int32')\n",
    "df[\"area_sqm\"] = df[\"area_sqm\"].astype('float32')\n",
    "\n",
    "df.info()"
   ],
   "metadata": {
    "collapsed": false,
    "ExecuteTime": {
     "end_time": "2024-06-18T14:03:46.792303400Z",
     "start_time": "2024-06-18T14:03:46.579024100Z"
    }
   },
   "id": "f0859fd020323cb8",
   "execution_count": 3
  },
  {
   "cell_type": "markdown",
   "source": [
    "Write data to spreadsheet"
   ],
   "metadata": {
    "collapsed": false
   },
   "id": "4a5672432768f8bc"
  },
  {
   "cell_type": "code",
   "outputs": [],
   "source": [
    "client = authenticate(\n",
    "    credentials=GOOGLE_APPLICATION_CREDENTIALS,\n",
    "    scopes=SCOPES\n",
    ")\n",
    "spreadsheet = create_spreadsheet(client, \"task_3\")\n",
    "share_spreadsheet(spreadsheet, EMAIL)\n",
    "add_worksheet_and_write_data(spreadsheet, df, \"apartments\")"
   ],
   "metadata": {
    "collapsed": false,
    "ExecuteTime": {
     "end_time": "2024-06-18T14:03:57.531879400Z",
     "start_time": "2024-06-18T14:03:49.599955400Z"
    }
   },
   "id": "99681429a5bef01",
   "execution_count": 4
  }
 ],
 "metadata": {
  "kernelspec": {
   "display_name": "Python 3",
   "language": "python",
   "name": "python3"
  },
  "language_info": {
   "codemirror_mode": {
    "name": "ipython",
    "version": 2
   },
   "file_extension": ".py",
   "mimetype": "text/x-python",
   "name": "python",
   "nbconvert_exporter": "python",
   "pygments_lexer": "ipython2",
   "version": "2.7.6"
  }
 },
 "nbformat": 4,
 "nbformat_minor": 5
}
