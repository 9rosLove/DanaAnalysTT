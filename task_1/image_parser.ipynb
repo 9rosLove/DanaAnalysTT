{
 "cells": [
  {
   "cell_type": "code",
   "outputs": [],
   "source": [
    "import pandas as pd\n",
    "\n",
    "from config import SHEET_ID, SCOPES, GOOGLE_APPLICATION_CREDENTIALS\n",
    "from utils import authenticate"
   ],
   "metadata": {
    "collapsed": false,
    "ExecuteTime": {
     "end_time": "2024-06-18T05:16:30.208185600Z",
     "start_time": "2024-06-18T05:16:30.202096400Z"
    }
   },
   "id": "50cd5af00bdbe024",
   "execution_count": 2
  },
  {
   "cell_type": "markdown",
   "source": [
    "Fetch data from the worksheet and convert it into a pandas DataFrame"
   ],
   "metadata": {
    "collapsed": false
   },
   "id": "ad82d4417a743c46"
  },
  {
   "cell_type": "code",
   "outputs": [
    {
     "data": {
      "text/plain": "                                            image_url       SIZE\n0   https://data.sanitino.eu/PRODUCT-33916/8607663...  1614x1080\n1   https://data.sanitino.eu/PRODUCT-62434/f7aa3c2...  1080x1080\n2   https://data.sanitino.eu/PRODUCT-33915/8607663...  1614x1080\n3   https://data.sanitino.eu/PRODUCT-62426/506d67b...  1080x1080\n4   https://data.sanitino.eu/PRODUCT-33893/ccd99b4...  1614x1080\n..                                                ...        ...\n95  https://data.sanitino.eu/PRODUCT-4723/72ea8172...  1080x1178\n96  https://data.sanitino.eu/PRODUCT-29317/f72de61...  1080x1093\n97  https://data.sanitino.eu/PRODUCT-29328/4bedb8f...  1080x1093\n98  https://data.sanitino.eu/PRODUCT-29320/071b923...  1080x1093\n99  https://data.sanitino.eu/PRODUCT-29326/f72de61...  1080x1093\n\n[100 rows x 2 columns]",
      "text/html": "<div>\n<style scoped>\n    .dataframe tbody tr th:only-of-type {\n        vertical-align: middle;\n    }\n\n    .dataframe tbody tr th {\n        vertical-align: top;\n    }\n\n    .dataframe thead th {\n        text-align: right;\n    }\n</style>\n<table border=\"1\" class=\"dataframe\">\n  <thead>\n    <tr style=\"text-align: right;\">\n      <th></th>\n      <th>image_url</th>\n      <th>SIZE</th>\n    </tr>\n  </thead>\n  <tbody>\n    <tr>\n      <th>0</th>\n      <td>https://data.sanitino.eu/PRODUCT-33916/8607663...</td>\n      <td>1614x1080</td>\n    </tr>\n    <tr>\n      <th>1</th>\n      <td>https://data.sanitino.eu/PRODUCT-62434/f7aa3c2...</td>\n      <td>1080x1080</td>\n    </tr>\n    <tr>\n      <th>2</th>\n      <td>https://data.sanitino.eu/PRODUCT-33915/8607663...</td>\n      <td>1614x1080</td>\n    </tr>\n    <tr>\n      <th>3</th>\n      <td>https://data.sanitino.eu/PRODUCT-62426/506d67b...</td>\n      <td>1080x1080</td>\n    </tr>\n    <tr>\n      <th>4</th>\n      <td>https://data.sanitino.eu/PRODUCT-33893/ccd99b4...</td>\n      <td>1614x1080</td>\n    </tr>\n    <tr>\n      <th>...</th>\n      <td>...</td>\n      <td>...</td>\n    </tr>\n    <tr>\n      <th>95</th>\n      <td>https://data.sanitino.eu/PRODUCT-4723/72ea8172...</td>\n      <td>1080x1178</td>\n    </tr>\n    <tr>\n      <th>96</th>\n      <td>https://data.sanitino.eu/PRODUCT-29317/f72de61...</td>\n      <td>1080x1093</td>\n    </tr>\n    <tr>\n      <th>97</th>\n      <td>https://data.sanitino.eu/PRODUCT-29328/4bedb8f...</td>\n      <td>1080x1093</td>\n    </tr>\n    <tr>\n      <th>98</th>\n      <td>https://data.sanitino.eu/PRODUCT-29320/071b923...</td>\n      <td>1080x1093</td>\n    </tr>\n    <tr>\n      <th>99</th>\n      <td>https://data.sanitino.eu/PRODUCT-29326/f72de61...</td>\n      <td>1080x1093</td>\n    </tr>\n  </tbody>\n</table>\n<p>100 rows × 2 columns</p>\n</div>"
     },
     "execution_count": 11,
     "metadata": {},
     "output_type": "execute_result"
    }
   ],
   "source": [
    "client = authenticate(credentials=GOOGLE_APPLICATION_CREDENTIALS, scopes=SCOPES)\n",
    "worksheet = client.open_by_key(SHEET_ID).sheet1\n",
    "data = worksheet.get_all_values()\n",
    "df = pd.DataFrame(data[1:], columns=data[0])\n",
    "df.head(100)"
   ],
   "metadata": {
    "collapsed": false,
    "ExecuteTime": {
     "end_time": "2024-06-18T05:20:50.131784700Z",
     "start_time": "2024-06-18T05:20:47.139936500Z"
    }
   },
   "id": "3ed32ad5f579045b",
   "execution_count": 11
  },
  {
   "cell_type": "markdown",
   "source": [
    "Check for missing values"
   ],
   "metadata": {
    "collapsed": false
   },
   "id": "b50f274357014f96"
  },
  {
   "cell_type": "code",
   "outputs": [],
   "source": [
    "df.isna().sum()"
   ],
   "metadata": {
    "collapsed": false
   },
   "id": "d4200825ecbe104",
   "execution_count": null
  },
  {
   "cell_type": "markdown",
   "source": [
    "Check for duplicates"
   ],
   "metadata": {
    "collapsed": false
   },
   "id": "3fbdf05ffb2f4450"
  },
  {
   "cell_type": "code",
   "outputs": [
    {
     "data": {
      "text/plain": "np.int64(0)"
     },
     "execution_count": 17,
     "metadata": {},
     "output_type": "execute_result"
    }
   ],
   "source": [
    "df.duplicated().sum()"
   ],
   "metadata": {
    "collapsed": false,
    "ExecuteTime": {
     "end_time": "2024-06-18T05:26:43.934931200Z",
     "start_time": "2024-06-18T05:26:43.890893200Z"
    }
   },
   "id": "5b75fddaa4297418",
   "execution_count": 17
  },
  {
   "cell_type": "markdown",
   "source": [
    "Cleaning rows with \"nan\" and NaN values in the \"image_url\" column"
   ],
   "metadata": {
    "collapsed": false
   },
   "id": "82580fd9d726f95e"
  },
  {
   "cell_type": "code",
   "outputs": [],
   "source": [
    "nan = df[df[\"image_url\"] == \"nan\"]\n",
    "df = df.drop(nan.index)"
   ],
   "metadata": {
    "collapsed": false,
    "ExecuteTime": {
     "end_time": "2024-06-18T05:18:45.938169600Z",
     "start_time": "2024-06-18T05:18:45.921869700Z"
    }
   },
   "id": "5b0e40cd34788eb5",
   "execution_count": 7
  }
 ],
 "metadata": {
  "kernelspec": {
   "display_name": "Python 3",
   "language": "python",
   "name": "python3"
  },
  "language_info": {
   "codemirror_mode": {
    "name": "ipython",
    "version": 2
   },
   "file_extension": ".py",
   "mimetype": "text/x-python",
   "name": "python",
   "nbconvert_exporter": "python",
   "pygments_lexer": "ipython2",
   "version": "2.7.6"
  }
 },
 "nbformat": 4,
 "nbformat_minor": 5
}
