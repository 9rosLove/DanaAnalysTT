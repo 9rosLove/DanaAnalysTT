{
 "cells": [
  {
   "cell_type": "code",
   "outputs": [],
   "source": [
    "import asyncio\n",
    "import aiohttp\n",
    "import pandas as pd\n",
    "from PIL import Image\n",
    "import io\n",
    "\n",
    "from config import SHEET_ID, SCOPES, GOOGLE_APPLICATION_CREDENTIALS\n",
    "from utils import write_to_worksheet, authenticate"
   ],
   "metadata": {
    "collapsed": false,
    "ExecuteTime": {
     "end_time": "2024-06-18T06:32:31.414035400Z",
     "start_time": "2024-06-18T06:32:29.609892200Z"
    }
   },
   "id": "50cd5af00bdbe024",
   "execution_count": 1
  },
  {
   "cell_type": "markdown",
   "source": [
    "Fetch data from the worksheet and convert it into a pandas DataFrame"
   ],
   "metadata": {
    "collapsed": false
   },
   "id": "ad82d4417a743c46"
  },
  {
   "cell_type": "code",
   "outputs": [
    {
     "data": {
      "text/plain": "                                            image_url     SIZE\n0   https://data.sanitino.eu/PRODUCT-33916/8607663...  575x860\n1   https://data.sanitino.eu/PRODUCT-62434/f7aa3c2...         \n2   https://data.sanitino.eu/PRODUCT-33915/8607663...         \n3   https://data.sanitino.eu/PRODUCT-62426/506d67b...         \n4   https://data.sanitino.eu/PRODUCT-33893/ccd99b4...         \n..                                                ...      ...\n95  https://data.sanitino.eu/PRODUCT-29321/071b923...         \n96  https://data.sanitino.eu/PRODUCT-4723/72ea8172...         \n97  https://data.sanitino.eu/PRODUCT-29317/f72de61...         \n98  https://data.sanitino.eu/PRODUCT-29328/4bedb8f...         \n99  https://data.sanitino.eu/PRODUCT-29320/071b923...         \n\n[100 rows x 2 columns]",
      "text/html": "<div>\n<style scoped>\n    .dataframe tbody tr th:only-of-type {\n        vertical-align: middle;\n    }\n\n    .dataframe tbody tr th {\n        vertical-align: top;\n    }\n\n    .dataframe thead th {\n        text-align: right;\n    }\n</style>\n<table border=\"1\" class=\"dataframe\">\n  <thead>\n    <tr style=\"text-align: right;\">\n      <th></th>\n      <th>image_url</th>\n      <th>SIZE</th>\n    </tr>\n  </thead>\n  <tbody>\n    <tr>\n      <th>0</th>\n      <td>https://data.sanitino.eu/PRODUCT-33916/8607663...</td>\n      <td>575x860</td>\n    </tr>\n    <tr>\n      <th>1</th>\n      <td>https://data.sanitino.eu/PRODUCT-62434/f7aa3c2...</td>\n      <td></td>\n    </tr>\n    <tr>\n      <th>2</th>\n      <td>https://data.sanitino.eu/PRODUCT-33915/8607663...</td>\n      <td></td>\n    </tr>\n    <tr>\n      <th>3</th>\n      <td>https://data.sanitino.eu/PRODUCT-62426/506d67b...</td>\n      <td></td>\n    </tr>\n    <tr>\n      <th>4</th>\n      <td>https://data.sanitino.eu/PRODUCT-33893/ccd99b4...</td>\n      <td></td>\n    </tr>\n    <tr>\n      <th>...</th>\n      <td>...</td>\n      <td>...</td>\n    </tr>\n    <tr>\n      <th>95</th>\n      <td>https://data.sanitino.eu/PRODUCT-29321/071b923...</td>\n      <td></td>\n    </tr>\n    <tr>\n      <th>96</th>\n      <td>https://data.sanitino.eu/PRODUCT-4723/72ea8172...</td>\n      <td></td>\n    </tr>\n    <tr>\n      <th>97</th>\n      <td>https://data.sanitino.eu/PRODUCT-29317/f72de61...</td>\n      <td></td>\n    </tr>\n    <tr>\n      <th>98</th>\n      <td>https://data.sanitino.eu/PRODUCT-29328/4bedb8f...</td>\n      <td></td>\n    </tr>\n    <tr>\n      <th>99</th>\n      <td>https://data.sanitino.eu/PRODUCT-29320/071b923...</td>\n      <td></td>\n    </tr>\n  </tbody>\n</table>\n<p>100 rows × 2 columns</p>\n</div>"
     },
     "execution_count": 2,
     "metadata": {},
     "output_type": "execute_result"
    }
   ],
   "source": [
    "client = authenticate(credentials=GOOGLE_APPLICATION_CREDENTIALS, scopes=SCOPES)\n",
    "worksheet = client.open_by_key(SHEET_ID).sheet1\n",
    "data = worksheet.get_all_values()\n",
    "df = pd.DataFrame(data[1:], columns=data[0])\n",
    "df.head(100)"
   ],
   "metadata": {
    "collapsed": false,
    "ExecuteTime": {
     "end_time": "2024-06-18T06:32:37.147616500Z",
     "start_time": "2024-06-18T06:32:33.864378900Z"
    }
   },
   "id": "3ed32ad5f579045b",
   "execution_count": 2
  },
  {
   "cell_type": "markdown",
   "source": [
    "Check for missing values"
   ],
   "metadata": {
    "collapsed": false
   },
   "id": "b50f274357014f96"
  },
  {
   "cell_type": "code",
   "outputs": [
    {
     "data": {
      "text/plain": "image_url    0\nSIZE         0\ndtype: int64"
     },
     "execution_count": 3,
     "metadata": {},
     "output_type": "execute_result"
    }
   ],
   "source": [
    "df.isna().sum()"
   ],
   "metadata": {
    "collapsed": false,
    "ExecuteTime": {
     "end_time": "2024-06-18T06:32:39.750043800Z",
     "start_time": "2024-06-18T06:32:39.734258700Z"
    }
   },
   "id": "d4200825ecbe104",
   "execution_count": 3
  },
  {
   "cell_type": "markdown",
   "source": [
    "Check for duplicates"
   ],
   "metadata": {
    "collapsed": false
   },
   "id": "3fbdf05ffb2f4450"
  },
  {
   "cell_type": "code",
   "outputs": [
    {
     "data": {
      "text/plain": "np.int64(19)"
     },
     "execution_count": 4,
     "metadata": {},
     "output_type": "execute_result"
    }
   ],
   "source": [
    "df.duplicated().sum()"
   ],
   "metadata": {
    "collapsed": false,
    "ExecuteTime": {
     "end_time": "2024-06-18T06:32:41.282469100Z",
     "start_time": "2024-06-18T06:32:41.244314800Z"
    }
   },
   "id": "5b75fddaa4297418",
   "execution_count": 4
  },
  {
   "cell_type": "markdown",
   "source": [
    "Cleaning rows with \"nan\" and NaN values in the \"image_url\" column"
   ],
   "metadata": {
    "collapsed": false
   },
   "id": "82580fd9d726f95e"
  },
  {
   "cell_type": "code",
   "outputs": [
    {
     "data": {
      "text/plain": "                                               image_url     SIZE\n0      https://data.sanitino.eu/PRODUCT-33916/8607663...  575x860\n1      https://data.sanitino.eu/PRODUCT-62434/f7aa3c2...         \n2      https://data.sanitino.eu/PRODUCT-33915/8607663...         \n3      https://data.sanitino.eu/PRODUCT-62426/506d67b...         \n4      https://data.sanitino.eu/PRODUCT-33893/ccd99b4...         \n...                                                  ...      ...\n46883  https://data.sanitino.eu/PRODUCT-113844/9786df...         \n46884  https://data.sanitino.eu/PRODUCT-20240/4a457da...         \n46885  https://data.sanitino.eu/PRODUCT-47765/58a1a3d...         \n46886  https://data.sanitino.eu/PRODUCT-56372/764c369...         \n46887  https://data.sanitino.eu/PRODUCT-90692/5a30dff...         \n\n[46868 rows x 2 columns]",
      "text/html": "<div>\n<style scoped>\n    .dataframe tbody tr th:only-of-type {\n        vertical-align: middle;\n    }\n\n    .dataframe tbody tr th {\n        vertical-align: top;\n    }\n\n    .dataframe thead th {\n        text-align: right;\n    }\n</style>\n<table border=\"1\" class=\"dataframe\">\n  <thead>\n    <tr style=\"text-align: right;\">\n      <th></th>\n      <th>image_url</th>\n      <th>SIZE</th>\n    </tr>\n  </thead>\n  <tbody>\n    <tr>\n      <th>0</th>\n      <td>https://data.sanitino.eu/PRODUCT-33916/8607663...</td>\n      <td>575x860</td>\n    </tr>\n    <tr>\n      <th>1</th>\n      <td>https://data.sanitino.eu/PRODUCT-62434/f7aa3c2...</td>\n      <td></td>\n    </tr>\n    <tr>\n      <th>2</th>\n      <td>https://data.sanitino.eu/PRODUCT-33915/8607663...</td>\n      <td></td>\n    </tr>\n    <tr>\n      <th>3</th>\n      <td>https://data.sanitino.eu/PRODUCT-62426/506d67b...</td>\n      <td></td>\n    </tr>\n    <tr>\n      <th>4</th>\n      <td>https://data.sanitino.eu/PRODUCT-33893/ccd99b4...</td>\n      <td></td>\n    </tr>\n    <tr>\n      <th>...</th>\n      <td>...</td>\n      <td>...</td>\n    </tr>\n    <tr>\n      <th>46883</th>\n      <td>https://data.sanitino.eu/PRODUCT-113844/9786df...</td>\n      <td></td>\n    </tr>\n    <tr>\n      <th>46884</th>\n      <td>https://data.sanitino.eu/PRODUCT-20240/4a457da...</td>\n      <td></td>\n    </tr>\n    <tr>\n      <th>46885</th>\n      <td>https://data.sanitino.eu/PRODUCT-47765/58a1a3d...</td>\n      <td></td>\n    </tr>\n    <tr>\n      <th>46886</th>\n      <td>https://data.sanitino.eu/PRODUCT-56372/764c369...</td>\n      <td></td>\n    </tr>\n    <tr>\n      <th>46887</th>\n      <td>https://data.sanitino.eu/PRODUCT-90692/5a30dff...</td>\n      <td></td>\n    </tr>\n  </tbody>\n</table>\n<p>46868 rows × 2 columns</p>\n</div>"
     },
     "execution_count": 5,
     "metadata": {},
     "output_type": "execute_result"
    }
   ],
   "source": [
    "nan = df[df[\"image_url\"] == \"nan\"]\n",
    "df = df.drop(nan.index)\n",
    "df.drop_duplicates()"
   ],
   "metadata": {
    "collapsed": false,
    "ExecuteTime": {
     "end_time": "2024-06-18T06:32:43.487415800Z",
     "start_time": "2024-06-18T06:32:43.439082500Z"
    }
   },
   "id": "1802be25f3ee1fa2",
   "execution_count": 5
  },
  {
   "cell_type": "markdown",
   "source": [
    "Create asynchronous image resolution fetching"
   ],
   "metadata": {
    "collapsed": false
   },
   "id": "ebbfd76239fe35da"
  },
  {
   "cell_type": "code",
   "outputs": [],
   "source": [
    "async def get_single_image_resolution(\n",
    "        client: aiohttp.ClientSession,\n",
    "        url: str\n",
    ") -> str | None:\n",
    "    async with client.get(url) as response:\n",
    "\n",
    "        if response.status != 200:\n",
    "\n",
    "            return\n",
    "\n",
    "        content = await response.read()\n",
    "        image = Image.open(io.BytesIO(content))\n",
    "        resolution = f\"{image.height}x{image.width}\"\n",
    "\n",
    "        return resolution\n",
    "\n",
    "\n",
    "async def get_image_resolutions(\n",
    "        client: aiohttp.ClientSession,\n",
    "        df: pd.DataFrame\n",
    ") -> tuple[str | None]:\n",
    "    tasks = [get_single_image_resolution(client, url) for url in df[\"image_url\"]]\n",
    "\n",
    "    return await asyncio.gather(*tasks)\n",
    "\n",
    "\n",
    "async def set_image_resolutions(dataframe: pd.DataFrame) -> None:\n",
    "    async with aiohttp.ClientSession() as client:\n",
    "        dataframe[\"SIZE\"] = await get_image_resolutions(client, dataframe)\n",
    "\n",
    "\n",
    "await set_image_resolutions(df)"
   ],
   "metadata": {
    "collapsed": false,
    "ExecuteTime": {
     "end_time": "2024-06-18T06:36:10.584081800Z",
     "start_time": "2024-06-18T06:32:46.612069100Z"
    }
   },
   "id": "f84048dcde77a1fb",
   "execution_count": 6
  },
  {
   "cell_type": "code",
   "outputs": [
    {
     "data": {
      "text/plain": "                                           image_url       SIZE\n0  https://data.sanitino.eu/PRODUCT-33916/8607663...  1614x1080\n1  https://data.sanitino.eu/PRODUCT-62434/f7aa3c2...  1080x1080\n2  https://data.sanitino.eu/PRODUCT-33915/8607663...  1614x1080\n3  https://data.sanitino.eu/PRODUCT-62426/506d67b...  1080x1080\n4  https://data.sanitino.eu/PRODUCT-33893/ccd99b4...  1614x1080",
      "text/html": "<div>\n<style scoped>\n    .dataframe tbody tr th:only-of-type {\n        vertical-align: middle;\n    }\n\n    .dataframe tbody tr th {\n        vertical-align: top;\n    }\n\n    .dataframe thead th {\n        text-align: right;\n    }\n</style>\n<table border=\"1\" class=\"dataframe\">\n  <thead>\n    <tr style=\"text-align: right;\">\n      <th></th>\n      <th>image_url</th>\n      <th>SIZE</th>\n    </tr>\n  </thead>\n  <tbody>\n    <tr>\n      <th>0</th>\n      <td>https://data.sanitino.eu/PRODUCT-33916/8607663...</td>\n      <td>1614x1080</td>\n    </tr>\n    <tr>\n      <th>1</th>\n      <td>https://data.sanitino.eu/PRODUCT-62434/f7aa3c2...</td>\n      <td>1080x1080</td>\n    </tr>\n    <tr>\n      <th>2</th>\n      <td>https://data.sanitino.eu/PRODUCT-33915/8607663...</td>\n      <td>1614x1080</td>\n    </tr>\n    <tr>\n      <th>3</th>\n      <td>https://data.sanitino.eu/PRODUCT-62426/506d67b...</td>\n      <td>1080x1080</td>\n    </tr>\n    <tr>\n      <th>4</th>\n      <td>https://data.sanitino.eu/PRODUCT-33893/ccd99b4...</td>\n      <td>1614x1080</td>\n    </tr>\n  </tbody>\n</table>\n</div>"
     },
     "execution_count": 7,
     "metadata": {},
     "output_type": "execute_result"
    }
   ],
   "source": [
    "df.head()"
   ],
   "metadata": {
    "collapsed": false,
    "ExecuteTime": {
     "end_time": "2024-06-18T06:36:23.057668900Z",
     "start_time": "2024-06-18T06:36:23.049582600Z"
    }
   },
   "id": "ce75298cd0411202",
   "execution_count": 7
  },
  {
   "cell_type": "markdown",
   "source": [
    "Checking if there are any missing values"
   ],
   "metadata": {
    "collapsed": false
   },
   "id": "690ba6ae4c6355e3"
  },
  {
   "cell_type": "code",
   "outputs": [
    {
     "data": {
      "text/plain": "image_url       0\nSIZE         1031\ndtype: int64"
     },
     "execution_count": 8,
     "metadata": {},
     "output_type": "execute_result"
    }
   ],
   "source": [
    "df.isna().sum()"
   ],
   "metadata": {
    "collapsed": false,
    "ExecuteTime": {
     "end_time": "2024-06-18T06:36:25.682944900Z",
     "start_time": "2024-06-18T06:36:25.660552500Z"
    }
   },
   "id": "37d9342806175791",
   "execution_count": 8
  },
  {
   "cell_type": "markdown",
   "source": [
    "Cleaning rows with NaN values in the \"SIZE\" column"
   ],
   "metadata": {
    "collapsed": false
   },
   "id": "49a8cb9079039679"
  },
  {
   "cell_type": "code",
   "outputs": [],
   "source": [
    "df.dropna(subset=[\"SIZE\"], inplace=True)"
   ],
   "metadata": {
    "collapsed": false,
    "ExecuteTime": {
     "end_time": "2024-06-18T06:36:28.904562100Z",
     "start_time": "2024-06-18T06:36:28.885017900Z"
    }
   },
   "id": "ca3263850db9da0",
   "execution_count": 9
  },
  {
   "cell_type": "markdown",
   "source": [
    "Write the dataframe to the worksheet"
   ],
   "metadata": {
    "collapsed": false
   },
   "id": "bd5b3be408bc9ef3"
  },
  {
   "cell_type": "code",
   "outputs": [],
   "source": [
    "write_to_worksheet(worksheet, df, overwrite=True)"
   ],
   "metadata": {
    "collapsed": false,
    "ExecuteTime": {
     "end_time": "2024-06-18T06:36:50.818291500Z",
     "start_time": "2024-06-18T06:36:31.480822600Z"
    }
   },
   "id": "f52ce8a819d0f9e5",
   "execution_count": 10
  }
 ],
 "metadata": {
  "kernelspec": {
   "display_name": "Python 3",
   "language": "python",
   "name": "python3"
  },
  "language_info": {
   "codemirror_mode": {
    "name": "ipython",
    "version": 2
   },
   "file_extension": ".py",
   "mimetype": "text/x-python",
   "name": "python",
   "nbconvert_exporter": "python",
   "pygments_lexer": "ipython2",
   "version": "2.7.6"
  }
 },
 "nbformat": 4,
 "nbformat_minor": 5
}
